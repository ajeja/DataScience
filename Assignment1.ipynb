{
 "cells": [
  {
   "attachments": {},
   "cell_type": "markdown",
   "metadata": {},
   "source": [
    "1. In the below elements which of them are values or an expression? eg:- values can be integer or string and expressions will be mathematical operators.\n",
    "* \n",
    "'hello'\n",
    "-87.8\n",
    "- \n",
    "/ \n",
    "+\t\n",
    "6\n",
    "\n",
    "ANS:\n",
    "*  is an Expression\n",
    " 'hello' is a value\n",
    " -87.8 is a value\n",
    " - is an expression\n",
    " / is an expression\n",
    " + is an expression\n",
    " 6 is a value"
   ]
  },
  {
   "attachments": {},
   "cell_type": "markdown",
   "metadata": {},
   "source": [
    "2. What is the difference between string and variable?\n",
    "Ans:\n",
    "String is a datatype in Python. A string is a single or many characters enclosed in quotes.\n",
    "Variable is a name that represents a value in memory. A variable can hold the data of any data types."
   ]
  },
  {
   "attachments": {},
   "cell_type": "markdown",
   "metadata": {},
   "source": [
    "3. Describe three different data types.\n",
    "a.\tString : It is a datatype in python, which holds Characters, numbers, and even special characters or the combination of the above three but they are \n",
    "enclosed in single or double quotes. Ex: “String”, “10”\n",
    "b.\tBoolean: It represents the truth values either True or False\n",
    "c.\tNumerical: \n",
    "(i)\tInteger: It holds the numerical value. (Positive and Negative) Ex:10, 25\n",
    "(ii)\tFloat: It holds the numerical value along with decimal points. (Positive and Negative). Ex: 10.00, 25.00"
   ]
  },
  {
   "attachments": {},
   "cell_type": "markdown",
   "metadata": {},
   "source": [
    "4. What is an expression made up of? What do all expressions do?\n",
    "Ans: The expression is a combination of a value, variable, and function when evaluated returns some result.\n",
    "Ex: x =5+3, The output of the expression is 8.\n",
    " Y= len(“WORD”), The output of the expression is 4.\n",
    "   "
   ]
  },
  {
   "attachments": {},
   "cell_type": "markdown",
   "metadata": {},
   "source": [
    "5. This assignment statements, like spam = 10. What is the difference between an expression and a statement?\n",
    "Ans: The Assignment statement is used to store a value to a variable. “=” is the assignment operator. The value on the right side of the equal sign is assigned \n",
    "to a variable on the left side."
   ]
  },
  {
   "attachments": {},
   "cell_type": "markdown",
   "metadata": {},
   "source": [
    "6. After running the following code, what does the variable bacon contain?\n",
    "bacon = 22\n",
    "bacon + 1\n",
    " Ans: The output of the bacon is 22."
   ]
  },
  {
   "attachments": {},
   "cell_type": "markdown",
   "metadata": {},
   "source": [
    "7. What should the values of the following two terms be?\n",
    "'spam' + 'spamspam'\n",
    "'spam' * 3\n",
    "Ans:  The output of the above two  expression is ‘spamspamspam’"
   ]
  },
  {
   "attachments": {},
   "cell_type": "markdown",
   "metadata": {},
   "source": [
    "8. Why is eggs a valid variable name while 100 is invalid?\n",
    "Ans: In Python the variable should start with an Alphabet or an underscore. Since eggs start with an Alphabet it is a variable whereas 100 start with a number \n",
    "therefore it is not a variable. "
   ]
  },
  {
   "attachments": {},
   "cell_type": "markdown",
   "metadata": {},
   "source": [
    "9. What three functions can be used to get the integer, floating-point number, or string version of a value?\n",
    "Ans: int(), float() and str() are the three functions that can be used to get the integer, floating-point number, or string version of a value.\n",
    "Ex int(10.0) returns the output as 10.\n",
    "float(10) returns the output as 10.0\n",
    "str(99) returns the output as “99”"
   ]
  },
  {
   "attachments": {},
   "cell_type": "markdown",
   "metadata": {},
   "source": [
    "10. Why does this expression cause an error? How can you fix it?\n",
    "'I have eaten ' + 99 + ' burritos.' \n",
    "Ans: Concatenation can be done only for string data type. In this example 99 is an integer. It can be corrected by including 99 with in the quotes. \n",
    "Ex 'I have eaten ' + ‘99’ + ' burritos.'"
   ]
  }
 ],
 "metadata": {
  "language_info": {
   "name": "python"
  },
  "orig_nbformat": 4
 },
 "nbformat": 4,
 "nbformat_minor": 2
}
