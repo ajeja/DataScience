{
 "cells": [
  {
   "attachments": {},
   "cell_type": "markdown",
   "metadata": {},
   "source": [
    "1. What are the two values of the Boolean data type? How do you write them?\n",
    "\n",
    "        The two values of Boolean data type are True and False.\n",
    "\n",
    "        Ex a =True\n",
    "           b = False\n",
    "\n",
    "           The output is shown in next cell. "
   ]
  },
  {
   "cell_type": "code",
   "execution_count": 2,
   "metadata": {},
   "outputs": [
    {
     "name": "stdout",
     "output_type": "stream",
     "text": [
      "True\n",
      "False\n"
     ]
    }
   ],
   "source": [
    "a = True\n",
    "b = False\n",
    "\n",
    "print(a)\n",
    "print(b)"
   ]
  },
  {
   "attachments": {},
   "cell_type": "markdown",
   "metadata": {},
   "source": [
    "2. What are the three different types of Boolean operators?\n",
    "        The  three types of Boolean Operators are AND, OR, NOT.\n",
    "        AND :  This opeartor returns true only if both the operand are TRUE else FALSE will be returned. \n",
    "        OR :  This opeartor returns true if any one operand is TRUE else FALSE will be returned.\n",
    "        NOT:  This operand returns the opposite of the value stored in the operand. (ie if TRUE is stored FALSE will be returned and vice versa ) "
   ]
  },
  {
   "attachments": {},
   "cell_type": "markdown",
   "metadata": {},
   "source": [
    "3. Make a list of each Boolean operator's truth tables (i.e. every possible combination of Boolean values for the operator and what it evaluate ).\n",
    "\n",
    "AND\n",
    "\n",
    "x           y           Output\n",
    "\n",
    "True        True        True\n",
    "True        False       False\n",
    "False       True        False\n",
    "False       False       False\n",
    "\n",
    "OR\n",
    "\n",
    "x           y           Output\n",
    "\n",
    "True        True        True\n",
    "True        False       True\n",
    "False       True        True\n",
    "False       False       False\n",
    "\n",
    "Not\n",
    "\n",
    "x           Output\n",
    "True        False\n",
    "False       True"
   ]
  },
  {
   "cell_type": "code",
   "execution_count": 6,
   "metadata": {},
   "outputs": [
    {
     "name": "stdout",
     "output_type": "stream",
     "text": [
      "False\n",
      "True\n",
      "False\n",
      "True\n"
     ]
    }
   ],
   "source": [
    "x1 = True \n",
    "x2 = False\n",
    "print(x1 and x2)\n",
    "print(x1 or x2)\n",
    "print(not x1)\n",
    "print(not x2)"
   ]
  },
  {
   "cell_type": "code",
   "execution_count": 7,
   "metadata": {},
   "outputs": [
    {
     "name": "stdout",
     "output_type": "stream",
     "text": [
      "True\n",
      "True\n",
      "False\n",
      "False\n"
     ]
    }
   ],
   "source": [
    "x1 = True \n",
    "x2 = True\n",
    "print(x1 and x2)\n",
    "print(x1 or x2)\n",
    "print(not x1)\n",
    "print(not x2)"
   ]
  },
  {
   "attachments": {},
   "cell_type": "markdown",
   "metadata": {},
   "source": [
    "4. 4. What are the values of the following expressions?\n",
    "(5 > 4) and (3 == 5)\n",
    "not (5 > 4)\n",
    "(5 > 4) or (3 == 5)\n",
    "not ((5 > 4) or (3 == 5))\n",
    "(True and True) and (True == False)\n",
    "(not False) or (not True)"
   ]
  },
  {
   "cell_type": "code",
   "execution_count": 1,
   "metadata": {},
   "outputs": [
    {
     "name": "stdout",
     "output_type": "stream",
     "text": [
      "a =False\n",
      "b=False\n",
      "c=True\n",
      "d =False\n",
      "e =False\n",
      "f =True\n"
     ]
    }
   ],
   "source": [
    "#Ans:\n",
    "a = (5 > 4) and (3==5)\n",
    "print ( \"a =\" +str(a) )\n",
    "b = not(5>4)\n",
    "print(\"b=\"+str(b))\n",
    "c = (5 > 4) or (3 == 5)\n",
    "print(\"c=\"+str(c))\n",
    "d = not ((5 > 4) or (3 == 5))\n",
    "print(\"d =\"+ str(d))\n",
    "e = (True and True) and (True == False)\n",
    "print(\"e =\"+str(e))\n",
    "f = (not False) or (not True)\n",
    "print(\"f =\"+str(f))"
   ]
  },
  {
   "attachments": {},
   "cell_type": "markdown",
   "metadata": {},
   "source": [
    "5. What are the six comparison operators?\n",
    "\n",
    "Ans: Less than ( < )  , Greater than ( > ) , less than or equal to ( <= ), greater than or equal to ( >= ), Not equal ( != ), Equal to ( == ). "
   ]
  },
  {
   "attachments": {},
   "cell_type": "markdown",
   "metadata": {},
   "source": [
    "6. How do you tell the difference between the equal to and assignment operators?Describe a condition and when you would use one.\n",
    "\n",
    "Ans:\n",
    "The equal to (==) is an comparison operator, it compares the operands on either sides of this operator and returns True or False.\n",
    "\n",
    "The equal ( = ) is an assignment operator, which assigns the value on the right to the variable on the right. "
   ]
  },
  {
   "cell_type": "code",
   "execution_count": 3,
   "metadata": {},
   "outputs": [
    {
     "name": "stdout",
     "output_type": "stream",
     "text": [
      "8\n",
      "False\n"
     ]
    }
   ],
   "source": [
    "a = 8 # Assinment operation\n",
    "b = 5\n",
    "print(a)\n",
    "print(a == b) # Comparison operation"
   ]
  },
  {
   "attachments": {},
   "cell_type": "markdown",
   "metadata": {},
   "source": [
    "7. Identify the three blocks in this code:\n",
    "spam = 0\n",
    "if spam == 10:\n",
    "    print('eggs')\n",
    "if spam > 5:\n",
    "    print('bacon')\n",
    "else:\n",
    "    print('ham')\n",
    "print('spam')\n",
    "print('spam')\n",
    "\n",
    "Ans: Block 1 \n",
    "spam = 0\n",
    "if spam == 10:\n",
    "    print('eggs')\n",
    "\n",
    "Block 2 \n",
    "if spam > 5:\n",
    "    print('bacon')\n",
    "else:\n",
    "    print('ham')  \n",
    "\n",
    "Block 3\n",
    "print('spam')\n",
    "print('spam')     "
   ]
  },
  {
   "cell_type": "code",
   "execution_count": 11,
   "metadata": {},
   "outputs": [
    {
     "name": "stdout",
     "output_type": "stream",
     "text": [
      "Greetings\n"
     ]
    }
   ],
   "source": [
    "#8. Write code that prints Hello if 1 is stored in spam, \n",
    "#prints Howdy if 2 is stored in spam, and prints Greetings! if anything else is stored in spam.\n",
    "spam = 3\n",
    "if spam == 1:\n",
    "    print('Hello')\n",
    "elif spam ==2:\n",
    "    print('Howdy')\n",
    "else:\n",
    "    print('Greetings')\n",
    "\n"
   ]
  },
  {
   "attachments": {},
   "cell_type": "markdown",
   "metadata": {},
   "source": [
    "9.If your programme is stuck in an endless loop, what keys you’ll press?\n",
    "Ans: ctrl + c"
   ]
  },
  {
   "attachments": {},
   "cell_type": "markdown",
   "metadata": {},
   "source": [
    "10. How can you tell the difference between break and continue?\n",
    "\n",
    "Ans: break - Jumps out of the closest enclosing loop.\n",
    "     continue - Jumps to the top of the closest enclosing loop. "
   ]
  },
  {
   "attachments": {},
   "cell_type": "markdown",
   "metadata": {},
   "source": [
    "11. In a for loop, what is the difference between range(10), range(0, 10), and range(0, 10, 1)?\n",
    "Ans: range() is a function used to generate the sequence of numbers.The start value, end value and the step value are the three attributes for this function. Among them the end value is mandatory. The default value for start value and step value are 0 and 1 resp. The end value will not be included in the generated sequence. \n",
    "The output for the three range functions will generate the same output."
   ]
  },
  {
   "cell_type": "code",
   "execution_count": 22,
   "metadata": {},
   "outputs": [
    {
     "name": "stdout",
     "output_type": "stream",
     "text": [
      "0\n",
      "1\n",
      "2\n",
      "3\n",
      "4\n",
      "5\n",
      "6\n",
      "7\n",
      "8\n",
      "9\n",
      "10\n",
      "0\n",
      "1\n",
      "2\n",
      "3\n",
      "4\n",
      "5\n",
      "6\n",
      "7\n",
      "8\n",
      "9\n",
      "10\n"
     ]
    }
   ],
   "source": [
    "# 12. . Write a short program that prints the numbers 1 to 10 using a for loop. \n",
    "#Then write an equivalent program that prints the numbers 1 to 10 using a while loop.\n",
    "#Ans\n",
    "for i in range(11):\n",
    "    print (i)\n",
    "\n",
    "j = 0\n",
    "while j<=10:\n",
    "    print(j)\n",
    "    j+=1\n"
   ]
  },
  {
   "attachments": {},
   "cell_type": "markdown",
   "metadata": {},
   "source": [
    "13. If you had a function named bacon() inside a module named spam, how would you call it after importing spam?\n",
    "\n",
    "Ans:\n",
    "spam.bacon()"
   ]
  }
 ],
 "metadata": {
  "kernelspec": {
   "display_name": "Python 3",
   "language": "python",
   "name": "python3"
  },
  "language_info": {
   "codemirror_mode": {
    "name": "ipython",
    "version": 3
   },
   "file_extension": ".py",
   "mimetype": "text/x-python",
   "name": "python",
   "nbconvert_exporter": "python",
   "pygments_lexer": "ipython3",
   "version": "3.10.11"
  },
  "orig_nbformat": 4
 },
 "nbformat": 4,
 "nbformat_minor": 2
}
