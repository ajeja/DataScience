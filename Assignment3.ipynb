{
 "cells": [
  {
   "attachments": {},
   "cell_type": "markdown",
   "metadata": {},
   "source": [
    "1. Why are functions advantageous to have in your programs?\n",
    "\n",
    "Ans: Functions are a group of statements in a program, that can be run more than once in a program. The main advantage of using functions in a program is the same code can be used many number of times thereby minimising the redundancy. It also helps in procedural decomposition (i.e) The whole task can be divided in to smaller tasks and each task can be solved by writing a specific function. "
   ]
  },
  {
   "attachments": {},
   "cell_type": "markdown",
   "metadata": {},
   "source": [
    "2. When does the code in a function run: when it's specified or when it's called?\n",
    "\n",
    "Ans: The code in the function will run only when the function is called. The function is called by the function name followed by parentheses. Ex: code(x), Here x is an argument."
   ]
  },
  {
   "attachments": {},
   "cell_type": "markdown",
   "metadata": {},
   "source": [
    "3. What statement creates a function?\n",
    "\n",
    "Ans def is the statement that creates a function in python. Ex: def add(a,b):\n",
    "                                                                    return (a+b) \n",
    "    When the python come across the def statement, it creates a new function object and assigns it to a name add. When it is called it will return the sum of two numbers.                                                                                "
   ]
  },
  {
   "cell_type": "code",
   "execution_count": 1,
   "metadata": {},
   "outputs": [
    {
     "name": "stdout",
     "output_type": "stream",
     "text": [
      "12\n"
     ]
    }
   ],
   "source": [
    "def add(x,y):\n",
    "    return(x+y)\n",
    "\n",
    "print(add(6,6))"
   ]
  },
  {
   "attachments": {},
   "cell_type": "markdown",
   "metadata": {},
   "source": [
    "4. What is the difference between a function and a function call?\n",
    "Ans: Functions are a group of statements in a program, that can be run more than once in a program. The function can be created using a def statement. The code within the function is executed only when the function is called."
   ]
  },
  {
   "attachments": {},
   "cell_type": "markdown",
   "metadata": {},
   "source": [
    "5. How many global scopes are there in a Python program? How many local scopes?\n",
    "Ans: There is only one global scope. The variable defined in the outermost level of the program have global scope, these variables can be accessed throughout the program.\n",
    "Local scopes are created dynamically and the number of local scopes depends on the number of function calls and code blocks executed.   "
   ]
  },
  {
   "attachments": {},
   "cell_type": "markdown",
   "metadata": {},
   "source": [
    "6. What happens to variables in a local scope when the function call returns?\n",
    "Ans: When the function call returns, The variables defined in the local scope is detroyed or cease to exist. But if the variable is used to store the value that was returned from the function then the value is accessible though the variable defined within the local scope does not exist.  "
   ]
  },
  {
   "attachments": {},
   "cell_type": "markdown",
   "metadata": {},
   "source": [
    "7. What is the concept of a return value? Is it possible to have a return value in an expression?\n",
    "Ans: The \"return value\" is the output of a function. This value is sent to the caller once the function is executed completely. The return statement is followed by a variable which have the result of a function or an expression which gives the result of a function. If a function does not have a return statement it will return the None object which id usually ignored.\n",
    "It is not possible to have a return value in an expression as this local variable does not exist outside the function."
   ]
  },
  {
   "attachments": {},
   "cell_type": "markdown",
   "metadata": {},
   "source": [
    "8. If a function does not have a return statement, what is the return value of a call to that function?\n",
    "Ans: If the function does not have a return statement,  it will return the None object which is usually ignored.  "
   ]
  },
  {
   "attachments": {},
   "cell_type": "markdown",
   "metadata": {},
   "source": [
    "9. How do you make a function variable refer to the global variable?\n",
    "Ans: By using the keyword \"global\" before the name of the variable with in a function, we can make the function variable to be referred as Global variable.   "
   ]
  },
  {
   "attachments": {},
   "cell_type": "markdown",
   "metadata": {},
   "source": [
    "10. What is the data type of None?\n",
    "Ans: The data type of None is \"None Type\". It is a buildin type in Python and has only one instance of it. "
   ]
  },
  {
   "attachments": {},
   "cell_type": "markdown",
   "metadata": {},
   "source": [
    "11. What does the sentence import areallyourpetsnamederic do?\n",
    "Ans: This will throw the error as \"areallyourpetsnamederic\" is not a recognised package name in Python. "
   ]
  },
  {
   "attachments": {},
   "cell_type": "markdown",
   "metadata": {},
   "source": [
    "12. If you had a bacon() feature in a spam module, what would you call it after importing spam?\n",
    "Ans: spam.bacon() is the term used to call the bacon() feature."
   ]
  },
  {
   "attachments": {},
   "cell_type": "markdown",
   "metadata": {},
   "source": [
    "13. What can you do to save a programme from crashing if it encounters an error?\n",
    "Ans: Exception handling is the way to prevent the program from crashing when it encounters an error. It can be achieved by using the \"try -except\" statement. With in the \"try\" the actual code is written. With in the \"except\" statement, the error messages to be displayed will be given. More than one except statements can be given to handle the exceptions.   "
   ]
  },
  {
   "attachments": {},
   "cell_type": "markdown",
   "metadata": {},
   "source": [
    "14. What is the purpose of the try clause? What is the purpose of the except clause?\n",
    "Ans: The purpose of the try clause is to have the portion of the code that may raise an exception. The purpose of except clause is to handle the exceptions that raise in try block for this purpose more than one except block can be used. "
   ]
  }
 ],
 "metadata": {
  "kernelspec": {
   "display_name": "Python 3",
   "language": "python",
   "name": "python3"
  },
  "language_info": {
   "codemirror_mode": {
    "name": "ipython",
    "version": 3
   },
   "file_extension": ".py",
   "mimetype": "text/x-python",
   "name": "python",
   "nbconvert_exporter": "python",
   "pygments_lexer": "ipython3",
   "version": "3.10.11"
  },
  "orig_nbformat": 4
 },
 "nbformat": 4,
 "nbformat_minor": 2
}
